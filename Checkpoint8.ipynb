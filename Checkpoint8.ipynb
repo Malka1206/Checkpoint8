{
 "cells": [
  {
   "cell_type": "code",
   "execution_count": 3,
   "id": "2edc1c30",
   "metadata": {},
   "outputs": [
    {
     "name": "stdout",
     "output_type": "stream",
     "text": [
      "What is Python language?                                                \n",
      "\n",
      "Python is a widely used high-level, general-purpose, interpreted, dynamic programming language.Its design philosophy emphasizes code readability, and its syntax allows programmers to express concepts in fewer lines of code than possible in \n",
      "\n",
      "languages such as C++ or Java. \n",
      "\n",
      "Python supports multiple programming paradigms, including object-oriented, imperative and functional programming or procedural styles. It features a dynamic type system and automatic memory management and has a large and comprehensive standard library.The best way we learn anything is by practice and exercise questions. We  have started this section for those (beginner to intermediate) who are familiar with Python.\n"
     ]
    }
   ],
   "source": [
    "#question1\n",
    "f=open('python.txt','r',encoding='utf-8')\n",
    "for i in f:\n",
    "    print(i)"
   ]
  },
  {
   "cell_type": "code",
   "execution_count": 15,
   "id": "dc1ff89f",
   "metadata": {},
   "outputs": [
    {
     "name": "stdout",
     "output_type": "stream",
     "text": [
      "insert the numbers of lines you want to read: 2\n",
      "What is Python language?                                                \n",
      "\n",
      "Python is a widely used high-level, general-purpose, interpreted, dynamic programming language.Its design philosophy emphasizes code readability, and its syntax allows programmers to express concepts in fewer lines of code than possible in \n",
      "\n"
     ]
    }
   ],
   "source": [
    "#question2\n",
    "f=open('python.txt','r',encoding='utf-8')\n",
    "n=int(input(\"insert the numbers of lines you want to read: \"))\n",
    "while n<=0 :\n",
    "    n=int(input(\"insert the numbers of lines you want to read: \"))\n",
    "for t in range (0,n):\n",
    "        print(f.readline())   "
   ]
  },
  {
   "cell_type": "code",
   "execution_count": 7,
   "id": "969ebf55",
   "metadata": {},
   "outputs": [
    {
     "name": "stdout",
     "output_type": "stream",
     "text": [
      "insert the numbers of lines you want to read: 2\n",
      "languages such as C++ or Java. \n",
      "\n",
      "Python supports multiple programming paradigms, including object-oriented, imperative and functional programming or procedural styles. It features a dynamic type system and automatic memory management and has a large and comprehensive standard library.The best way we learn anything is by practice and exercise questions. We  have started this section for those (beginner to intermediate) who are familiar with Python.\n"
     ]
    }
   ],
   "source": [
    "#question3\n",
    "f=open('python.txt','r',encoding='utf-8')\n",
    "n=int(input(\"insert the numbers of lines you want to read: \"))\n",
    "while n<=0 :\n",
    "    n=int(input(\"insert the numbers of lines you want to read: \"))\n",
    "lines=f.readlines()\n",
    "list_line=lines[-n:]\n",
    "for i in list_line :\n",
    "    print(i)\n",
    "    "
   ]
  },
  {
   "cell_type": "code",
   "execution_count": 17,
   "id": "7909ba42",
   "metadata": {},
   "outputs": [
    {
     "name": "stdout",
     "output_type": "stream",
     "text": [
      "insert your text path:\n",
      "example : fullpath/text.txt: python.txt\n",
      "this the total number of your words:  147\n"
     ]
    }
   ],
   "source": [
    "#question4\n",
    "print('insert your text path:')\n",
    "f=input(\"example : fullpath/text.txt: \")\n",
    "text=open(f,'r',encoding='utf-8')\n",
    "text=text.readlines()\n",
    "total_words=0\n",
    "for i in text :\n",
    "    local_words=0\n",
    "    for b in i :\n",
    "        if b==' ' and b!='':\n",
    "            local_words=local_words+1\n",
    "    total_words=total_words+local_words\n",
    "print(\"this the total number of your words: \",total_words)"
   ]
  }
 ],
 "metadata": {
  "kernelspec": {
   "display_name": "Python 3",
   "language": "python",
   "name": "python3"
  },
  "language_info": {
   "codemirror_mode": {
    "name": "ipython",
    "version": 3
   },
   "file_extension": ".py",
   "mimetype": "text/x-python",
   "name": "python",
   "nbconvert_exporter": "python",
   "pygments_lexer": "ipython3",
   "version": "3.8.8"
  }
 },
 "nbformat": 4,
 "nbformat_minor": 5
}
